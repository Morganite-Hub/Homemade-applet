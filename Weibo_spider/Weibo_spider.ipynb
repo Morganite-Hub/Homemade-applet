{
 "cells": [
  {
   "cell_type": "markdown",
   "metadata": {},
   "source": [
    "# 微博热搜爬虫\n",
    "\n",
    "完成这个小程序主要有两个目的，一是为了复习之前学过的爬虫，太长时间没用动手，很多东西都忘记了，趁这个机会好好练习一下；二来是将这个程序当一个小练笔，因为真正的目的是为了爬取学校图书馆的一本书，但是怎么尝试，都是失败，但是我发现学校图书馆网站的结构和微博热搜的这个有些类似，因此我尝试如何完成微博热搜爬虫这个小程序。\n",
    "\n",
    "### 遇到的问题\n",
    "在编写这个小程序的时候，遇到的问题就是爬取的内容为空。之前爬取学校图书馆的那本书也是碰到了类似的问题，没法直接获取网站的html。在网上查阅了许多网友的代码，甚至是直接复制了他们的代码，但是爬取到的结果还是空的。后来在csdn中发现，现在很多网站都设置了证书验证，因此需要登录自己的网站账号，然后在header里面录入自己Cookie。录入cookie可能只是一种解决方案，也不见得什么时候都见效，因此之后的项目应该发掘其他的方法。\n",
    "\n",
    "### 项目还待改善建议\n",
    "这个程序只是简单的爬取了微博的信息，后续可以思考如何让这些信息传达出去，例如如何以优美的格式，然后以文件或者邮件的形式传送到手机或者电脑。再者就是可以着重标出自己感兴趣的内容。因此后期可以给自己感兴趣的内容做上标记，等到微博热搜有相关内容后可以及时发送到手机或电子邮件中。\n"
   ]
  },
  {
   "cell_type": "code",
   "execution_count": 1,
   "metadata": {},
   "outputs": [],
   "source": [
    "# 因为微博热搜存储的格式是json，所以引入json库用来解析html文本\n",
    "import requests\n",
    "import json\n"
   ]
  },
  {
   "cell_type": "code",
   "execution_count": 2,
   "metadata": {},
   "outputs": [],
   "source": [
    "#设置url，及headers：因为现在很多网站设置了证书认证，所以需要登录网站的账号并添加当前网站的Cookie，不然爬取到的内容会为空\n",
    "url = 'https://weibo.com/ajax/side/hotSearch'\n",
    "header = {\n",
    "    'Referer': 'https://weibo.com/hot/search',\n",
    "    'Host': 'weibo.com',\n",
    "    'User-Agent': 'Mozilla/5.0 (Windows NT 10.0; Win64; x64) AppleWebKit/537.36 (KHTML, like Gecko) Chrome/119.0.0.0 Safari/537.36',\n",
    "    'Cookie':'_s_tentry=passport.weibo.com; Apache=8105054488497.314.1700261301345; SINAGLOBAL=8105054488497.314.1700261301345; ULV=1700261301358:1:1:1:8105054488497.314.1700261301345:; XSRF-TOKEN=vUCRdLgap9dfPMKfSOacpm2n; SUB=_2A25IU52LDeRhGeFK7lAX-S3JyDmIHXVrEJ9DrDV8PUNbmtANLUSgkW9NQ1jfpQ_7DvRX5xcLtImTc2lwORwX3wVS; SUBP=0033WrSXqPxfM725Ws9jqgMF55529P9D9WFgXamjMLZQhhvx-vQHfqsX5JpX5KzhUgL.FoMXSKzc1Kefe0-2dJLoIp7LxKML1KBLBKnLxKqL1hnLBoMNSh-ESo.0SKef; ALF=1731797338; SSOLoginState=1700261339; WBPSESS=2J0sXtOp6zA1KZ4UMwhsXyS6sVggTwx8XOa78Dhvuj1h6epwV7rfhSEuhGQV6y9px1ZYXXYYCmsxvupJNceCtu6qzUdtGGSobl6C9HWH180s5o2BAZ2weYt-TA7eTMzToge1UCokFQ-oLSRUWZ-NDQ=='\n",
    "}\n"
   ]
  },
  {
   "cell_type": "code",
   "execution_count": 8,
   "metadata": {},
   "outputs": [
    {
     "name": "stdout",
     "output_type": "stream",
     "text": [
      "2023APEC\n",
      "大姐爬完香山献血地铁虚脱警民齐相助\n",
      "亚太合作新的时代之问\n",
      "羽生结弦离婚原因\n",
      "佘诗曼 给内娱一些女王震撼\n",
      "缅北电诈集团首犯明学昌畏罪自杀\n",
      "外交部回应岸田希望中国取消停止从日进口食品措施\n",
      "五月天嘉宾 14号观众\n",
      "刘亦菲看到胡军的表情\n",
      "一到冬天为什么中西医都建议吃羊肉\n",
      "浙江一家4人查出同种癌最小才16岁\n",
      "全职太太建议别做全职太太\n",
      "男子被撞倒后遭多次碾压身亡\n",
      "4名缅北电诈头目为何2人户籍地在云南\n",
      "拜登发言时看布林肯眼色\n",
      "全红婵代言的女装品牌被吐槽丑\n",
      "羽生结弦结婚时间\n",
      "奚梦瑶教何猷君人情世故\n",
      "临沧分拣中心\n",
      "刘亦菲 油画公主\n",
      "80后首富或为山东39岁的他\n",
      "妈妈经常私拆快递26岁女儿崩溃\n",
      "把从大山里考出来的孩子送回深山\n",
      "动物园里多了一只冻脚的傻鸟\n",
      "马云办公室回应减持阿里\n",
      "龚俊剧里是怎么忍住不摸的\n",
      "舒淇祖母绿眼妆\n",
      "主播女孩重度依赖编剧在浦东机场走丢\n",
      "小马驹被卖母马追出几里地\n",
      "关晓彤敦煌飞天妆\n",
      "offer5玻璃门要不要擦这么干净\n",
      "五月天舞台 提词器\n",
      "张遮看到姜雪宁被烫的反应\n",
      "五条悟可以复活了吗\n",
      "方便面到底是不是垃圾食品\n",
      "东莞在校自杀教师生前疑与人发生过争执\n",
      "王栎鑫 谁比谁差\n",
      "故意猜低工资结果比猜的还少\n",
      "全班同学为即将休产假老师准备惊喜\n",
      "走失老人告诉民警自己就住在公安局\n",
      "白敬亭顺毛\n",
      "吴彦姝说张桂梅的事迹应该让很多人看到\n",
      "EDG 接AD\n",
      "马斯克APEC演讲被取消\n",
      "关晓彤觉得张真源适合当王牌游戏组导演\n",
      "主人堆雪怀念丢失小狗\n",
      "王星越孔雪儿再现为有暗香来片段\n",
      "长期熬夜或会导致脑出血\n",
      "沈梦辰 我没有引以为傲的作品\n",
      "歌手KAN去世\n"
     ]
    }
   ],
   "source": [
    "#向服务器发出请求\n",
    "\n",
    "resp = requests.get(url, headers = header)  #requests方法获得的是response对象\n",
    "if resp.status_code == 200:   # 当成功获取网站的信息时，网站会返回200\n",
    "    resp1 = resp.content.decode(encoding='utf-8',errors='ignore') #将获取的网站内容转化成字符串格式，方便后续用json解析文本\n",
    "    data_0 = json.loads(resp1)  #用json解析文本\n",
    "    data_1 = data_0['data']\n",
    "for i in data_1['realtime']:\n",
    "    re_sou = i['word']\n",
    "    print(re_sou)\n"
   ]
  }
 ],
 "metadata": {
  "kernelspec": {
   "display_name": "Python 3",
   "language": "python",
   "name": "python3"
  },
  "language_info": {
   "codemirror_mode": {
    "name": "ipython",
    "version": 3
   },
   "file_extension": ".py",
   "mimetype": "text/x-python",
   "name": "python",
   "nbconvert_exporter": "python",
   "pygments_lexer": "ipython3",
   "version": "3.7.0"
  }
 },
 "nbformat": 4,
 "nbformat_minor": 2
}
